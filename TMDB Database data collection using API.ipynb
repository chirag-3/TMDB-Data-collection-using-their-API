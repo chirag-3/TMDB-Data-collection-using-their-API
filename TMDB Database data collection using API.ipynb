{
 "cells": [
  {
   "cell_type": "code",
   "execution_count": 1,
   "id": "6017581c",
   "metadata": {},
   "outputs": [],
   "source": [
    "import requests\n",
    "api_key = 'd10a6d5eb2b927c522ba2676c1987395'"
   ]
  },
  {
   "cell_type": "markdown",
   "id": "d7ac6932",
   "metadata": {},
   "source": [
    "# Get Movie Id of Andhadhun"
   ]
  },
  {
   "cell_type": "code",
   "execution_count": 2,
   "id": "4960c5bc",
   "metadata": {},
   "outputs": [],
   "source": [
    "search_movie_url = \"https://api.themoviedb.org/3/search/movie\" "
   ]
  },
  {
   "cell_type": "code",
   "execution_count": 3,
   "id": "a341d047",
   "metadata": {},
   "outputs": [],
   "source": [
    "params = {'api_key':api_key,'query':\"Andhadhun\"}\n",
    "response = requests.get(search_movie_url,params=params)"
   ]
  },
  {
   "cell_type": "code",
   "execution_count": 4,
   "id": "b794305f",
   "metadata": {},
   "outputs": [
    {
     "data": {
      "text/plain": [
       "<Response [200]>"
      ]
     },
     "execution_count": 4,
     "metadata": {},
     "output_type": "execute_result"
    }
   ],
   "source": [
    "response"
   ]
  },
  {
   "cell_type": "code",
   "execution_count": 5,
   "id": "0331c25d",
   "metadata": {},
   "outputs": [],
   "source": [
    "d1 = response.json()"
   ]
  },
  {
   "cell_type": "code",
   "execution_count": 6,
   "id": "933e636d",
   "metadata": {},
   "outputs": [
    {
     "data": {
      "text/plain": [
       "{'page': 1,\n",
       " 'results': [{'adult': False,\n",
       "   'backdrop_path': '/wJLV2ygHhTHG0nRTXlvA6wS8ubL.jpg',\n",
       "   'genre_ids': [80, 53, 35],\n",
       "   'id': 534780,\n",
       "   'original_language': 'hi',\n",
       "   'original_title': 'अंधाधुन',\n",
       "   'overview': 'A series of mysterious events changes the life of a blind pianist who now must report a crime that was actually never witnessed by him.',\n",
       "   'popularity': 13.239,\n",
       "   'poster_path': '/dy3K6hNvwE05siGgiLJcEiwgpdO.jpg',\n",
       "   'release_date': '2018-10-05',\n",
       "   'title': 'Andhadhun',\n",
       "   'video': False,\n",
       "   'vote_average': 7.6,\n",
       "   'vote_count': 379}],\n",
       " 'total_pages': 1,\n",
       " 'total_results': 1}"
      ]
     },
     "execution_count": 6,
     "metadata": {},
     "output_type": "execute_result"
    }
   ],
   "source": [
    "d1"
   ]
  },
  {
   "cell_type": "code",
   "execution_count": 8,
   "id": "b45af898",
   "metadata": {},
   "outputs": [
    {
     "data": {
      "text/plain": [
       "list"
      ]
     },
     "execution_count": 8,
     "metadata": {},
     "output_type": "execute_result"
    }
   ],
   "source": [
    "type(d1['results'])"
   ]
  },
  {
   "cell_type": "code",
   "execution_count": 9,
   "id": "044b5da0",
   "metadata": {},
   "outputs": [
    {
     "data": {
      "text/plain": [
       "4"
      ]
     },
     "execution_count": 9,
     "metadata": {},
     "output_type": "execute_result"
    }
   ],
   "source": [
    "len(d1)"
   ]
  },
  {
   "cell_type": "code",
   "execution_count": 11,
   "id": "27e38045",
   "metadata": {},
   "outputs": [
    {
     "data": {
      "text/plain": [
       "1"
      ]
     },
     "execution_count": 11,
     "metadata": {},
     "output_type": "execute_result"
    }
   ],
   "source": [
    "len(d1['results'])"
   ]
  },
  {
   "cell_type": "code",
   "execution_count": 12,
   "id": "f424f081",
   "metadata": {},
   "outputs": [],
   "source": [
    "results = d1['results'][0]"
   ]
  },
  {
   "cell_type": "code",
   "execution_count": 13,
   "id": "985f189e",
   "metadata": {},
   "outputs": [
    {
     "name": "stdout",
     "output_type": "stream",
     "text": [
      "534780\n"
     ]
    }
   ],
   "source": [
    "print(results['id'])"
   ]
  },
  {
   "cell_type": "markdown",
   "id": "114d8177",
   "metadata": {},
   "source": []
  }
 ],
 "metadata": {
  "kernelspec": {
   "display_name": "Python 3 (ipykernel)",
   "language": "python",
   "name": "python3"
  },
  "language_info": {
   "codemirror_mode": {
    "name": "ipython",
    "version": 3
   },
   "file_extension": ".py",
   "mimetype": "text/x-python",
   "name": "python",
   "nbconvert_exporter": "python",
   "pygments_lexer": "ipython3",
   "version": "3.9.7"
  }
 },
 "nbformat": 4,
 "nbformat_minor": 5
}
