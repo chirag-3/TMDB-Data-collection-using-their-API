{
 "cells": [
  {
   "cell_type": "code",
   "execution_count": 1,
   "id": "e0835eb1",
   "metadata": {},
   "outputs": [],
   "source": [
    "import requests\n",
    "api_key = 'd10a6d5eb2b927c522ba2676c1987395'"
   ]
  },
  {
   "cell_type": "markdown",
   "id": "3fd0240b",
   "metadata": {},
   "source": [
    "# Get Movie Id of Andhadhun"
   ]
  },
  {
   "cell_type": "code",
   "execution_count": 2,
   "id": "ad1c3e41",
   "metadata": {},
   "outputs": [],
   "source": [
    "search_movie_url = \"https://api.themoviedb.org/3/search/movie\" "
   ]
  },
  {
   "cell_type": "code",
   "execution_count": 3,
   "id": "dc1ad383",
   "metadata": {},
   "outputs": [],
   "source": [
    "params = {'api_key':api_key,'query':\"Andhadhun\"}\n",
    "response = requests.get(search_movie_url,params=params)"
   ]
  },
  {
   "cell_type": "code",
   "execution_count": 4,
   "id": "c0f708d5",
   "metadata": {},
   "outputs": [
    {
     "data": {
      "text/plain": [
       "<Response [200]>"
      ]
     },
     "execution_count": 4,
     "metadata": {},
     "output_type": "execute_result"
    }
   ],
   "source": [
    "response"
   ]
  },
  {
   "cell_type": "code",
   "execution_count": 5,
   "id": "3a26e963",
   "metadata": {},
   "outputs": [],
   "source": [
    "d1 = response.json()"
   ]
  },
  {
   "cell_type": "code",
   "execution_count": 6,
   "id": "c1039ede",
   "metadata": {},
   "outputs": [
    {
     "data": {
      "text/plain": [
       "{'page': 1,\n",
       " 'results': [{'adult': False,\n",
       "   'backdrop_path': '/wJLV2ygHhTHG0nRTXlvA6wS8ubL.jpg',\n",
       "   'genre_ids': [80, 53, 35],\n",
       "   'id': 534780,\n",
       "   'original_language': 'hi',\n",
       "   'original_title': 'अंधाधुन',\n",
       "   'overview': 'A series of mysterious events changes the life of a blind pianist who now must report a crime that was actually never witnessed by him.',\n",
       "   'popularity': 13.239,\n",
       "   'poster_path': '/dy3K6hNvwE05siGgiLJcEiwgpdO.jpg',\n",
       "   'release_date': '2018-10-05',\n",
       "   'title': 'Andhadhun',\n",
       "   'video': False,\n",
       "   'vote_average': 7.6,\n",
       "   'vote_count': 379}],\n",
       " 'total_pages': 1,\n",
       " 'total_results': 1}"
      ]
     },
     "execution_count": 6,
     "metadata": {},
     "output_type": "execute_result"
    }
   ],
   "source": [
    "d1"
   ]
  },
  {
   "cell_type": "code",
   "execution_count": 8,
   "id": "8d2226e8",
   "metadata": {},
   "outputs": [
    {
     "data": {
      "text/plain": [
       "list"
      ]
     },
     "execution_count": 8,
     "metadata": {},
     "output_type": "execute_result"
    }
   ],
   "source": [
    "type(d1['results'])"
   ]
  },
  {
   "cell_type": "code",
   "execution_count": 9,
   "id": "cade8e49",
   "metadata": {},
   "outputs": [
    {
     "data": {
      "text/plain": [
       "4"
      ]
     },
     "execution_count": 9,
     "metadata": {},
     "output_type": "execute_result"
    }
   ],
   "source": [
    "len(d1)"
   ]
  },
  {
   "cell_type": "code",
   "execution_count": 11,
   "id": "04602ee9",
   "metadata": {},
   "outputs": [
    {
     "data": {
      "text/plain": [
       "1"
      ]
     },
     "execution_count": 11,
     "metadata": {},
     "output_type": "execute_result"
    }
   ],
   "source": [
    "len(d1['results'])"
   ]
  },
  {
   "cell_type": "code",
   "execution_count": 12,
   "id": "e2c88aca",
   "metadata": {},
   "outputs": [],
   "source": [
    "results = d1['results'][0]"
   ]
  },
  {
   "cell_type": "code",
   "execution_count": 13,
   "id": "98b18bf4",
   "metadata": {},
   "outputs": [
    {
     "name": "stdout",
     "output_type": "stream",
     "text": [
      "534780\n"
     ]
    }
   ],
   "source": [
    "print(results['id'])"
   ]
  },
  {
   "cell_type": "markdown",
   "id": "65b2bc8a",
   "metadata": {},
   "source": [
    "# Fetch company ID of company \"Marvel Studios\" "
   ]
  },
  {
   "cell_type": "code",
   "execution_count": 14,
   "id": "afef13e5",
   "metadata": {},
   "outputs": [],
   "source": [
    "url = \"https://api.themoviedb.org/3/search/company\""
   ]
  },
  {
   "cell_type": "code",
   "execution_count": 15,
   "id": "973de1f7",
   "metadata": {},
   "outputs": [],
   "source": [
    "params = {\"api_key\":api_key,\"query\":\"Marvel Studios\"}\n",
    "response = requests.get(url,params=params)"
   ]
  },
  {
   "cell_type": "code",
   "execution_count": 16,
   "id": "1980a6ff",
   "metadata": {},
   "outputs": [
    {
     "data": {
      "text/plain": [
       "<Response [200]>"
      ]
     },
     "execution_count": 16,
     "metadata": {},
     "output_type": "execute_result"
    }
   ],
   "source": [
    "response"
   ]
  },
  {
   "cell_type": "code",
   "execution_count": 17,
   "id": "f4274c6a",
   "metadata": {},
   "outputs": [
    {
     "data": {
      "text/plain": [
       "{'page': 1,\n",
       " 'results': [{'id': 420,\n",
       "   'logo_path': '/hUzeosd33nzE5MCNsZxCGEKTXaQ.png',\n",
       "   'name': 'Marvel Studios',\n",
       "   'origin_country': 'US'}],\n",
       " 'total_pages': 1,\n",
       " 'total_results': 1}"
      ]
     },
     "execution_count": 17,
     "metadata": {},
     "output_type": "execute_result"
    }
   ],
   "source": [
    "d2 = response.json()\n",
    "d2"
   ]
  },
  {
   "cell_type": "code",
   "execution_count": null,
   "id": "d8cad46e",
   "metadata": {},
   "outputs": [],
   "source": [
    "print(d2['results'][0])"
   ]
  }
 ],
 "metadata": {
  "kernelspec": {
   "display_name": "Python 3 (ipykernel)",
   "language": "python",
   "name": "python3"
  },
  "language_info": {
   "codemirror_mode": {
    "name": "ipython",
    "version": 3
   },
   "file_extension": ".py",
   "mimetype": "text/x-python",
   "name": "python",
   "nbconvert_exporter": "python",
   "pygments_lexer": "ipython3",
   "version": "3.9.7"
  }
 },
 "nbformat": 4,
 "nbformat_minor": 5
}
