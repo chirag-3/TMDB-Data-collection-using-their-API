{
 "cells": [
  {
   "cell_type": "code",
   "execution_count": 1,
   "id": "8674ee63",
   "metadata": {},
   "outputs": [],
   "source": [
    "import requests\n",
    "api_key = 'd10a6d5eb2b927c522ba2676c1987395'"
   ]
  },
  {
   "cell_type": "markdown",
   "id": "5a827aea",
   "metadata": {},
   "source": [
    "# Get Movie Id of Andhadhun"
   ]
  },
  {
   "cell_type": "code",
   "execution_count": 2,
   "id": "37a1c1d5",
   "metadata": {},
   "outputs": [],
   "source": [
    "search_movie_url = \"https://api.themoviedb.org/3/search/movie\" "
   ]
  },
  {
   "cell_type": "code",
   "execution_count": 3,
   "id": "daeb9f68",
   "metadata": {},
   "outputs": [],
   "source": [
    "params = {'api_key':api_key,'query':\"Andhadhun\"}\n",
    "response = requests.get(search_movie_url,params=params)"
   ]
  },
  {
   "cell_type": "code",
   "execution_count": 4,
   "id": "e8048d35",
   "metadata": {},
   "outputs": [
    {
     "data": {
      "text/plain": [
       "<Response [200]>"
      ]
     },
     "execution_count": 4,
     "metadata": {},
     "output_type": "execute_result"
    }
   ],
   "source": [
    "response"
   ]
  },
  {
   "cell_type": "code",
   "execution_count": 5,
   "id": "3882adba",
   "metadata": {},
   "outputs": [],
   "source": [
    "d1 = response.json()"
   ]
  },
  {
   "cell_type": "code",
   "execution_count": 6,
   "id": "df2ba772",
   "metadata": {},
   "outputs": [
    {
     "data": {
      "text/plain": [
       "{'page': 1,\n",
       " 'results': [{'adult': False,\n",
       "   'backdrop_path': '/wJLV2ygHhTHG0nRTXlvA6wS8ubL.jpg',\n",
       "   'genre_ids': [80, 53, 35],\n",
       "   'id': 534780,\n",
       "   'original_language': 'hi',\n",
       "   'original_title': 'अंधाधुन',\n",
       "   'overview': 'A series of mysterious events changes the life of a blind pianist who now must report a crime that was actually never witnessed by him.',\n",
       "   'popularity': 13.239,\n",
       "   'poster_path': '/dy3K6hNvwE05siGgiLJcEiwgpdO.jpg',\n",
       "   'release_date': '2018-10-05',\n",
       "   'title': 'Andhadhun',\n",
       "   'video': False,\n",
       "   'vote_average': 7.6,\n",
       "   'vote_count': 379}],\n",
       " 'total_pages': 1,\n",
       " 'total_results': 1}"
      ]
     },
     "execution_count": 6,
     "metadata": {},
     "output_type": "execute_result"
    }
   ],
   "source": [
    "d1"
   ]
  },
  {
   "cell_type": "code",
   "execution_count": 8,
   "id": "7b865be2",
   "metadata": {},
   "outputs": [
    {
     "data": {
      "text/plain": [
       "list"
      ]
     },
     "execution_count": 8,
     "metadata": {},
     "output_type": "execute_result"
    }
   ],
   "source": [
    "type(d1['results'])"
   ]
  },
  {
   "cell_type": "code",
   "execution_count": 9,
   "id": "51f9b5a4",
   "metadata": {},
   "outputs": [
    {
     "data": {
      "text/plain": [
       "4"
      ]
     },
     "execution_count": 9,
     "metadata": {},
     "output_type": "execute_result"
    }
   ],
   "source": [
    "len(d1)"
   ]
  },
  {
   "cell_type": "code",
   "execution_count": 11,
   "id": "97eaf643",
   "metadata": {},
   "outputs": [
    {
     "data": {
      "text/plain": [
       "1"
      ]
     },
     "execution_count": 11,
     "metadata": {},
     "output_type": "execute_result"
    }
   ],
   "source": [
    "len(d1['results'])"
   ]
  },
  {
   "cell_type": "code",
   "execution_count": 12,
   "id": "f799df55",
   "metadata": {},
   "outputs": [],
   "source": [
    "results = d1['results'][0]"
   ]
  },
  {
   "cell_type": "code",
   "execution_count": 13,
   "id": "36eeaece",
   "metadata": {},
   "outputs": [
    {
     "name": "stdout",
     "output_type": "stream",
     "text": [
      "534780\n"
     ]
    }
   ],
   "source": [
    "print(results['id'])"
   ]
  },
  {
   "cell_type": "markdown",
   "id": "a0951cba",
   "metadata": {},
   "source": [
    "# Fetch company ID of company \"Marvel Studios\" "
   ]
  },
  {
   "cell_type": "code",
   "execution_count": 14,
   "id": "347863cc",
   "metadata": {},
   "outputs": [],
   "source": [
    "url = \"https://api.themoviedb.org/3/search/company\""
   ]
  },
  {
   "cell_type": "code",
   "execution_count": 15,
   "id": "7f5088d4",
   "metadata": {},
   "outputs": [],
   "source": [
    "params = {\"api_key\":api_key,\"query\":\"Marvel Studios\"}\n",
    "response = requests.get(url,params=params)"
   ]
  },
  {
   "cell_type": "code",
   "execution_count": 16,
   "id": "804140dd",
   "metadata": {},
   "outputs": [
    {
     "data": {
      "text/plain": [
       "<Response [200]>"
      ]
     },
     "execution_count": 16,
     "metadata": {},
     "output_type": "execute_result"
    }
   ],
   "source": [
    "response"
   ]
  },
  {
   "cell_type": "code",
   "execution_count": 17,
   "id": "3a876788",
   "metadata": {},
   "outputs": [
    {
     "data": {
      "text/plain": [
       "{'page': 1,\n",
       " 'results': [{'id': 420,\n",
       "   'logo_path': '/hUzeosd33nzE5MCNsZxCGEKTXaQ.png',\n",
       "   'name': 'Marvel Studios',\n",
       "   'origin_country': 'US'}],\n",
       " 'total_pages': 1,\n",
       " 'total_results': 1}"
      ]
     },
     "execution_count": 17,
     "metadata": {},
     "output_type": "execute_result"
    }
   ],
   "source": [
    "d2 = response.json()\n",
    "d2"
   ]
  },
  {
   "cell_type": "code",
   "execution_count": 18,
   "id": "6c9247f4",
   "metadata": {},
   "outputs": [
    {
     "name": "stdout",
     "output_type": "stream",
     "text": [
      "420\n"
     ]
    }
   ],
   "source": [
    "print(d2['results'][0]['id'])"
   ]
  },
  {
   "cell_type": "markdown",
   "id": "fdb7db6b",
   "metadata": {},
   "source": [
    "# Find Vote count and Vote Average of movie Of movie 3-idiots"
   ]
  },
  {
   "cell_type": "code",
   "execution_count": 19,
   "id": "e234edc5",
   "metadata": {},
   "outputs": [],
   "source": [
    "search_movie_url = \"https://api.themoviedb.org/3/search/movie\" "
   ]
  },
  {
   "cell_type": "code",
   "execution_count": 21,
   "id": "88f5fa39",
   "metadata": {},
   "outputs": [],
   "source": [
    "params = {'api_key':api_key,'query':\"3-idiots\"}\n",
    "response = requests.get(search_movie_url,params=params)"
   ]
  },
  {
   "cell_type": "code",
   "execution_count": 22,
   "id": "3eb60a46",
   "metadata": {},
   "outputs": [
    {
     "data": {
      "text/plain": [
       "<Response [200]>"
      ]
     },
     "execution_count": 22,
     "metadata": {},
     "output_type": "execute_result"
    }
   ],
   "source": [
    "response"
   ]
  },
  {
   "cell_type": "code",
   "execution_count": 23,
   "id": "8bf5ac96",
   "metadata": {},
   "outputs": [
    {
     "data": {
      "text/plain": [
       "{'page': 1,\n",
       " 'results': [{'adult': False,\n",
       "   'backdrop_path': '/u7kuUaySqXBVAtqEl9vkTkAzHV9.jpg',\n",
       "   'genre_ids': [18, 35],\n",
       "   'id': 20453,\n",
       "   'original_language': 'hi',\n",
       "   'original_title': '3 Idiots',\n",
       "   'overview': 'Rascal. Joker. Dreamer. Genius... You\\'ve never met a college student quite like \"Rancho.\" From the moment he arrives at India\\'s most prestigious university, Rancho\\'s outlandish schemes turn the campus upside down—along with the lives of his two newfound best friends. Together, they make life miserable for \"Virus,\" the school’s uptight and heartless dean. But when Rancho catches the eye of the dean\\'s sexy daughter, Virus sets his sights on flunking out the \"3 idiots\" once and for all.',\n",
       "   'popularity': 38.82,\n",
       "   'poster_path': '/66A9MqXOyVFCssoloscw79z8Tew.jpg',\n",
       "   'release_date': '2009-12-23',\n",
       "   'title': '3 Idiots',\n",
       "   'video': False,\n",
       "   'vote_average': 8,\n",
       "   'vote_count': 1990}],\n",
       " 'total_pages': 1,\n",
       " 'total_results': 1}"
      ]
     },
     "execution_count": 23,
     "metadata": {},
     "output_type": "execute_result"
    }
   ],
   "source": [
    "d3 = response.json()\n",
    "d3"
   ]
  },
  {
   "cell_type": "code",
   "execution_count": 24,
   "id": "1c0df976",
   "metadata": {},
   "outputs": [],
   "source": [
    "results = d3['results'][0]"
   ]
  },
  {
   "cell_type": "code",
   "execution_count": 26,
   "id": "d471ca8c",
   "metadata": {},
   "outputs": [
    {
     "name": "stdout",
     "output_type": "stream",
     "text": [
      "1990,8\n"
     ]
    }
   ],
   "source": [
    "print(f\"{results['vote_count']},{results['vote_average']}\") "
   ]
  },
  {
   "cell_type": "markdown",
   "id": "f2adf52f",
   "metadata": {},
   "source": [
    "# Get List of Top 5 movies Similar to Inception"
   ]
  },
  {
   "cell_type": "markdown",
   "id": "09de9d8a",
   "metadata": {},
   "source": [
    "First of all we will have to find the mocie id of the movie inception, because the movie id  is required to call the API that given the similar movies list"
   ]
  },
  {
   "cell_type": "code",
   "execution_count": 27,
   "id": "5392e880",
   "metadata": {},
   "outputs": [],
   "source": [
    "search_movie_url = \"https://api.themoviedb.org/3/search/movie\" \n",
    "params = {'api_key':api_key,'query':\"inception\"}\n",
    "response = requests.get(search_movie_url,params=params)\n",
    "d4 = response.json()\n",
    "inception_id = d4['results'][0]['id']"
   ]
  },
  {
   "cell_type": "code",
   "execution_count": 29,
   "id": "8d8b202c",
   "metadata": {},
   "outputs": [
    {
     "data": {
      "text/plain": [
       "27205"
      ]
     },
     "execution_count": 29,
     "metadata": {},
     "output_type": "execute_result"
    }
   ],
   "source": [
    "inception_id"
   ]
  },
  {
   "cell_type": "code",
   "execution_count": 30,
   "id": "cb443f66",
   "metadata": {},
   "outputs": [],
   "source": [
    "similar_movie_url = f\"https://api.themoviedb.org/3/movie/{inception_id}/similar\"\n",
    "params = {'api_key':api_key}\n",
    "response = requests.get(similar_movie_url,params=params)"
   ]
  },
  {
   "cell_type": "code",
   "execution_count": 31,
   "id": "6a2f5303",
   "metadata": {},
   "outputs": [
    {
     "data": {
      "text/plain": [
       "<Response [200]>"
      ]
     },
     "execution_count": 31,
     "metadata": {},
     "output_type": "execute_result"
    }
   ],
   "source": [
    "response"
   ]
  },
  {
   "cell_type": "code",
   "execution_count": 32,
   "id": "423a3713",
   "metadata": {},
   "outputs": [
    {
     "data": {
      "text/plain": [
       "{'page': 1,\n",
       " 'results': [{'adult': False,\n",
       "   'backdrop_path': '/zSAtGMQPOY05hHeIdVEeX72jfz3.jpg',\n",
       "   'genre_ids': [28, 80, 53],\n",
       "   'id': 1535,\n",
       "   'original_language': 'en',\n",
       "   'original_title': 'Spy Game',\n",
       "   'overview': 'On the day of his retirement, a veteran CIA agent learns that his former protégé has been arrested in China, is sentenced to die the next morning in Beijing, and that the CIA is considering letting that happen to avoid an international scandal.',\n",
       "   'popularity': 18.38,\n",
       "   'poster_path': '/6y8M1rxjKofQCRKKe6xeV91K2Fc.jpg',\n",
       "   'release_date': '2001-11-18',\n",
       "   'title': 'Spy Game',\n",
       "   'video': False,\n",
       "   'vote_average': 6.921,\n",
       "   'vote_count': 1769},\n",
       "  {'adult': False,\n",
       "   'backdrop_path': '/aRqTPOPt8BOHE0ngppM9jnuuaeS.jpg',\n",
       "   'genre_ids': [28, 53],\n",
       "   'id': 1571,\n",
       "   'original_language': 'en',\n",
       "   'original_title': 'Live Free or Die Hard',\n",
       "   'overview': \"John McClane is back and badder than ever, and this time he's working for Homeland Security. He calls on the services of a young hacker in his bid to stop a ring of Internet terrorists intent on taking control of America's computer infrastructure.\",\n",
       "   'popularity': 36.418,\n",
       "   'poster_path': '/31TT47YjBl7a7uvJ3ff1nrirXhP.jpg',\n",
       "   'release_date': '2007-06-20',\n",
       "   'title': 'Live Free or Die Hard',\n",
       "   'video': False,\n",
       "   'vote_average': 6.591,\n",
       "   'vote_count': 5097},\n",
       "  {'adult': False,\n",
       "   'backdrop_path': '/fgkgab4Rel0nOI3B3scHeNB4Mn6.jpg',\n",
       "   'genre_ids': [28, 53],\n",
       "   'id': 1573,\n",
       "   'original_language': 'en',\n",
       "   'original_title': 'Die Hard 2',\n",
       "   'overview': 'Off-duty cop John McClane is gripped with a feeling of déjà vu when, on a snowy Christmas Eve in the nation’s capital, terrorists seize a major international airport, holding thousands of holiday travelers hostage. Renegade military commandos led by a murderous rogue officer plot to rescue a drug lord from justice and are prepared for every contingency except one: McClane’s smart-mouthed heroics.',\n",
       "   'popularity': 43.771,\n",
       "   'poster_path': '/56QECFJxueUVJAppVxwEE9ZDYrn.jpg',\n",
       "   'release_date': '1990-07-02',\n",
       "   'title': 'Die Hard 2',\n",
       "   'video': False,\n",
       "   'vote_average': 6.914,\n",
       "   'vote_count': 4968},\n",
       "  {'adult': False,\n",
       "   'backdrop_path': '/48RFr2WhpVgLSQGS3ugaXlX2Ykx.jpg',\n",
       "   'genre_ids': [27, 28, 878],\n",
       "   'id': 1577,\n",
       "   'original_language': 'en',\n",
       "   'original_title': 'Resident Evil: Apocalypse',\n",
       "   'overview': 'As the city is locked down under quarantine, Alice finds out that the people that died from the previous incident at the Umbrella Corporation have turned into zombies. She then joins a small band of elite soldiers, who are enlisted to rescue the missing daughter of the creator of the mutating T-virus.  Once lack of luck and resources happen, they begin to wage an exhilarating battle to survive and escape before the Umbrella Corporation erases its experiment from the face of the earth.',\n",
       "   'popularity': 28.512,\n",
       "   'poster_path': '/yzNQSLlZb7NAkA4C5uADfNDJ7hm.jpg',\n",
       "   'release_date': '2004-09-10',\n",
       "   'title': 'Resident Evil: Apocalypse',\n",
       "   'video': False,\n",
       "   'vote_average': 6.344,\n",
       "   'vote_count': 3734},\n",
       "  {'adult': False,\n",
       "   'backdrop_path': '/9Ebn8atCcGk5OZrx4xmoTobAxoh.jpg',\n",
       "   'genre_ids': [35, 10749],\n",
       "   'id': 1581,\n",
       "   'original_language': 'en',\n",
       "   'original_title': 'The Holiday',\n",
       "   'overview': 'Two women, one from the United States and one from the United Kingdom, swap homes at Christmas time after bad breakups with their boyfriends. Each woman finds romance with a local man but realizes that the imminent return home may end the relationship.',\n",
       "   'popularity': 25.986,\n",
       "   'poster_path': '/6fbqG49Q7IWBWdyJ7asNTcNbnG6.jpg',\n",
       "   'release_date': '2006-12-08',\n",
       "   'title': 'The Holiday',\n",
       "   'video': False,\n",
       "   'vote_average': 7.071,\n",
       "   'vote_count': 4362},\n",
       "  {'adult': False,\n",
       "   'backdrop_path': '/fqaq7q8rxvySxZQHR9lcNqmK5hR.jpg',\n",
       "   'genre_ids': [10749, 18, 14],\n",
       "   'id': 795,\n",
       "   'original_language': 'en',\n",
       "   'original_title': 'City of Angels',\n",
       "   'overview': 'When guardian angel Seth - who invisibly watches over the citizens of Los Angeles - becomes captivated by Maggie, a strong-willed heart surgeon, he ponders trading in his pure, otherworldly existence for a mortal life with his beloved. The couple embarks on a tender but forbidden romance spanning heaven and Earth.',\n",
       "   'popularity': 22.941,\n",
       "   'poster_path': '/iuzxpUjHsbQJXV3kB9ZAdCimM60.jpg',\n",
       "   'release_date': '1998-04-10',\n",
       "   'title': 'City of Angels',\n",
       "   'video': False,\n",
       "   'vote_average': 6.758,\n",
       "   'vote_count': 1837},\n",
       "  {'adult': False,\n",
       "   'backdrop_path': '/m7U3G8TyUIUsIXVvXrqd2VmVGjC.jpg',\n",
       "   'genre_ids': [18],\n",
       "   'id': 797,\n",
       "   'original_language': 'sv',\n",
       "   'original_title': 'Persona',\n",
       "   'overview': 'A young nurse, Alma, is put in charge of Elisabeth Vogler: an actress who is seemingly healthy in all respects, but will not talk. As they spend time together, Alma speaks to Elisabeth constantly, never receiving any answer. The time they spend together only strengthens the crushing realization that one does not exist.',\n",
       "   'popularity': 51.996,\n",
       "   'poster_path': '/bdXbfUir63TQHA5NTNcXPICZCW8.jpg',\n",
       "   'release_date': '1966-10-18',\n",
       "   'title': 'Persona',\n",
       "   'video': False,\n",
       "   'vote_average': 8.262,\n",
       "   'vote_count': 1743},\n",
       "  {'adult': False,\n",
       "   'backdrop_path': '/qcVrlyPFlPgCsmzorvELvpJN9Be.jpg',\n",
       "   'genre_ids': [35, 10749],\n",
       "   'id': 1597,\n",
       "   'original_language': 'en',\n",
       "   'original_title': 'Meet the Parents',\n",
       "   'overview': \"Greg Focker is ready to marry his girlfriend, Pam, but before he pops the question, he must win over her formidable father, humorless former CIA agent Jack Byrnes, at the wedding of Pam's sister. As Greg bends over backward to make a good impression, his visit to the Byrnes home turns into a hilarious series of disasters, and everything that can go wrong does, all under Jack's critical, hawklike gaze.\",\n",
       "   'popularity': 30.459,\n",
       "   'poster_path': '/5tXJ9ctuyEOMUFLaeqRisbXowWs.jpg',\n",
       "   'release_date': '2000-10-06',\n",
       "   'title': 'Meet the Parents',\n",
       "   'video': False,\n",
       "   'vote_average': 6.667,\n",
       "   'vote_count': 5240},\n",
       "  {'adult': False,\n",
       "   'backdrop_path': '/nxXMYeTUjO8olN5JERLa5oJLZVn.jpg',\n",
       "   'genre_ids': [35],\n",
       "   'id': 813,\n",
       "   'original_language': 'en',\n",
       "   'original_title': 'Airplane!',\n",
       "   'overview': 'The persons and events in this film are fictitious – fortunately! A masterpiece of off-the-wall comedy, Airplane! features Robert Hays as an ex-fighter pilot forced to take over the controls of an airliner when the flight crew succumbs to food poisoning; Julie Hagerty as his girlfriend/stewardess/co-pilot; and a cast of all-stars including Robert Stack, Lloyd Bridges, Peter Graves, Leslie Nielsen, Kareem Abdul-Jabbar... and more. Their hilarious high jinks spoof airplane disaster flicks, religious zealots, television commercials, romantic love... the list whirls by in rapid succession, and the story races from one moment of zany fun to the next.',\n",
       "   'popularity': 31.413,\n",
       "   'poster_path': '/hiURvJjCgk0s10urHVCg80TFF11.jpg',\n",
       "   'release_date': '1980-07-02',\n",
       "   'title': 'Airplane!',\n",
       "   'video': False,\n",
       "   'vote_average': 7.28,\n",
       "   'vote_count': 3788},\n",
       "  {'adult': False,\n",
       "   'backdrop_path': '/yb9ziyvWC5OZey075Zr7qCJOyJg.jpg',\n",
       "   'genre_ids': [35, 80, 878],\n",
       "   'id': 818,\n",
       "   'original_language': 'en',\n",
       "   'original_title': 'Austin Powers in Goldmember',\n",
       "   'overview': \"The world's most shagadelic spy continues his fight against Dr. Evil. This time, the diabolical doctor and his clone, Mini-Me, team up with a new foe—'70s kingpin Goldmember. While pursuing the team of villains to stop them from world domination, Austin gets help from his dad and an old girlfriend.\",\n",
       "   'popularity': 23.625,\n",
       "   'poster_path': '/aSNnxSNc7HftXa6EULM4Lq6mUDn.jpg',\n",
       "   'release_date': '2002-07-26',\n",
       "   'title': 'Austin Powers in Goldmember',\n",
       "   'video': False,\n",
       "   'vote_average': 5.992,\n",
       "   'vote_count': 2703},\n",
       "  {'adult': False,\n",
       "   'backdrop_path': '/dCSen2t9Hcp5iyEJkmaDDzuYefw.jpg',\n",
       "   'genre_ids': [18],\n",
       "   'id': 1630,\n",
       "   'original_language': 'en',\n",
       "   'original_title': 'The People vs. Larry Flynt',\n",
       "   'overview': 'Larry Flynt is the hedonistically obnoxious, but indomitable, publisher of Hustler magazine. The film recounts his struggle to make an honest living publishing his girlie magazine and how it changes into a battle to protect the freedom of speech for all people.',\n",
       "   'popularity': 11.511,\n",
       "   'poster_path': '/sAgHn7ys6TiVXBDTZ0UBEjinIUk.jpg',\n",
       "   'release_date': '1996-12-25',\n",
       "   'title': 'The People vs. Larry Flynt',\n",
       "   'video': False,\n",
       "   'vote_average': 6.949,\n",
       "   'vote_count': 923},\n",
       "  {'adult': False,\n",
       "   'backdrop_path': '/bsoAg22remHKL5O0xJH0m9DX6Pu.jpg',\n",
       "   'genre_ids': [80, 18, 9648, 53],\n",
       "   'id': 829,\n",
       "   'original_language': 'en',\n",
       "   'original_title': 'Chinatown',\n",
       "   'overview': \"Private eye Jake Gittes lives off of the murky moral climate of sunbaked, pre-World War II Southern California. Hired by a beautiful socialite to investigate her husband's extra-marital affair, Gittes is swept into a maelstrom of double dealings and deadly deceits, uncovering a web of personal and political scandals that come crashing together.\",\n",
       "   'popularity': 20.631,\n",
       "   'poster_path': '/7ljxmU9L0ugUvyyg0GBkFaarjEq.jpg',\n",
       "   'release_date': '1974-06-20',\n",
       "   'title': 'Chinatown',\n",
       "   'video': False,\n",
       "   'vote_average': 7.923,\n",
       "   'vote_count': 3176},\n",
       "  {'adult': False,\n",
       "   'backdrop_path': '/p6KTx0cpT33ZIbUrZqPjCpjHQT3.jpg',\n",
       "   'genre_ids': [18],\n",
       "   'id': 1640,\n",
       "   'original_language': 'en',\n",
       "   'original_title': 'Crash',\n",
       "   'overview': 'In post-Sept. 11 Los Angeles, tensions erupt when the lives of a Brentwood housewife, her district attorney husband, a Persian shopkeeper, two cops, a pair of carjackers and a Korean couple converge during a 36-hour period.',\n",
       "   'popularity': 21.146,\n",
       "   'poster_path': '/86BdPC6RDX88NC880pLidKn2LCj.jpg',\n",
       "   'release_date': '2005-05-06',\n",
       "   'title': 'Crash',\n",
       "   'video': False,\n",
       "   'vote_average': 7.234,\n",
       "   'vote_count': 3014},\n",
       "  {'adult': False,\n",
       "   'backdrop_path': '/6kzYm1u9DOVhKZ2DyqZNUZ9yLdy.jpg',\n",
       "   'genre_ids': [35, 18],\n",
       "   'id': 838,\n",
       "   'original_language': 'en',\n",
       "   'original_title': 'American Graffiti',\n",
       "   'overview': 'A couple of high school graduates spend one final night cruising the strip with their buddies before they go off to college.',\n",
       "   'popularity': 13.814,\n",
       "   'poster_path': '/1yFdtOV0b9UBUoBNbw0ZcyLbadk.jpg',\n",
       "   'release_date': '1973-08-01',\n",
       "   'title': 'American Graffiti',\n",
       "   'video': False,\n",
       "   'vote_average': 7.044,\n",
       "   'vote_count': 1167},\n",
       "  {'adult': False,\n",
       "   'backdrop_path': '/3sF6AibdbTTkswfSRxXEGCt5w6s.jpg',\n",
       "   'genre_ids': [28, 12, 14],\n",
       "   'id': 847,\n",
       "   'original_language': 'en',\n",
       "   'original_title': 'Willow',\n",
       "   'overview': \"The evil Queen Bavmorda hunts the newborn princess Elora Danan, a child prophesied to bring about her downfall. When the royal infant is found by Willow, a timid farmer and aspiring sorcerer, he's entrusted with delivering her from evil.\",\n",
       "   'popularity': 73.242,\n",
       "   'poster_path': '/d9xEILdvVRX8ZgFwPDbco6kKSaS.jpg',\n",
       "   'release_date': '1988-05-20',\n",
       "   'title': 'Willow',\n",
       "   'video': False,\n",
       "   'vote_average': 7.044,\n",
       "   'vote_count': 1619},\n",
       "  {'adult': False,\n",
       "   'backdrop_path': '/tym6NH7ybFeldBuYYp0RSLpjZFq.jpg',\n",
       "   'genre_ids': [14, 16, 35, 80],\n",
       "   'id': 856,\n",
       "   'original_language': 'en',\n",
       "   'original_title': 'Who Framed Roger Rabbit',\n",
       "   'overview': \"'Toon star Roger is worried that his wife Jessica is playing pattycake with someone else, so the studio hires detective Eddie Valiant to snoop on her. But the stakes are quickly raised when Marvin Acme is found dead and Roger is the prime suspect.\",\n",
       "   'popularity': 26.011,\n",
       "   'poster_path': '/lYfRc57Kx9VgLZ48iulu0HKnM15.jpg',\n",
       "   'release_date': '1988-06-21',\n",
       "   'title': 'Who Framed Roger Rabbit',\n",
       "   'video': False,\n",
       "   'vote_average': 7.51,\n",
       "   'vote_count': 4913},\n",
       "  {'adult': False,\n",
       "   'backdrop_path': '/bdD39MpSVhKjxarTxLSfX6baoMP.jpg',\n",
       "   'genre_ids': [18, 36, 10752],\n",
       "   'id': 857,\n",
       "   'original_language': 'en',\n",
       "   'original_title': 'Saving Private Ryan',\n",
       "   'overview': 'As U.S. troops storm the beaches of Normandy, three brothers lie dead on the battlefield, with a fourth trapped behind enemy lines. Ranger captain John Miller and seven men are tasked with penetrating German-held territory and bringing the boy home.',\n",
       "   'popularity': 54.2,\n",
       "   'poster_path': '/1wY4psJ5NVEhCuOYROwLH2XExM2.jpg',\n",
       "   'release_date': '1998-07-24',\n",
       "   'title': 'Saving Private Ryan',\n",
       "   'video': False,\n",
       "   'vote_average': 8.202,\n",
       "   'vote_count': 13823},\n",
       "  {'adult': False,\n",
       "   'backdrop_path': '/fROgQIALHJEmayqLITFHhOMW3ef.jpg',\n",
       "   'genre_ids': [35, 18, 10749],\n",
       "   'id': 858,\n",
       "   'original_language': 'en',\n",
       "   'original_title': 'Sleepless in Seattle',\n",
       "   'overview': \"When Sam Baldwin's wife dies, he is left to bring up his eight-year-old son Jonah alone, and decides to move to Seattle to make a new start. On Christmas Eve, Jonah rings a radio phone-in with his Christmas wish to find a new wife for his dad. Meanwhile in Baltimore, journalist Annie Reed, who is having doubts about her own relationship, is listening in.\",\n",
       "   'popularity': 14.57,\n",
       "   'poster_path': '/iLWsLVrfkFvOXOG9PbUAYg7AK3E.jpg',\n",
       "   'release_date': '1993-06-24',\n",
       "   'title': 'Sleepless in Seattle',\n",
       "   'video': False,\n",
       "   'vote_average': 6.709,\n",
       "   'vote_count': 1966},\n",
       "  {'adult': False,\n",
       "   'backdrop_path': '/3Rfvhy1Nl6sSGJwyjb0QiZzZYlB.jpg',\n",
       "   'genre_ids': [16, 12, 10751, 35],\n",
       "   'id': 862,\n",
       "   'original_language': 'en',\n",
       "   'original_title': 'Toy Story',\n",
       "   'overview': \"Led by Woody, Andy's toys live happily in his room until Andy's birthday brings Buzz Lightyear onto the scene. Afraid of losing his place in Andy's heart, Woody plots against Buzz. But when circumstances separate Buzz and Woody from their owner, the duo eventually learns to put aside their differences.\",\n",
       "   'popularity': 121.584,\n",
       "   'poster_path': '/uXDfjJbdP4ijW5hWSBrPrlKpxab.jpg',\n",
       "   'release_date': '1995-10-30',\n",
       "   'title': 'Toy Story',\n",
       "   'video': False,\n",
       "   'vote_average': 7.965,\n",
       "   'vote_count': 16254},\n",
       "  {'adult': False,\n",
       "   'backdrop_path': '/tPK1kSevALeVGPfDFv1pwyHnoJ9.jpg',\n",
       "   'genre_ids': [16, 35, 10751],\n",
       "   'id': 863,\n",
       "   'original_language': 'en',\n",
       "   'original_title': 'Toy Story 2',\n",
       "   'overview': \"Andy heads off to Cowboy Camp, leaving his toys to their own devices. Things shift into high gear when an obsessive toy collector named Al McWhiggen, owner of Al's Toy Barn kidnaps Woody. Andy's toys mount a daring rescue mission, Buzz Lightyear meets his match and Woody has to decide where he and his heart truly belong.\",\n",
       "   'popularity': 94.622,\n",
       "   'poster_path': '/xVhEI1WCgNCCa5I86AqiwuZoog3.jpg',\n",
       "   'release_date': '1999-10-30',\n",
       "   'title': 'Toy Story 2',\n",
       "   'video': False,\n",
       "   'vote_average': 7.583,\n",
       "   'vote_count': 12241}],\n",
       " 'total_pages': 500,\n",
       " 'total_results': 10000}"
      ]
     },
     "execution_count": 32,
     "metadata": {},
     "output_type": "execute_result"
    }
   ],
   "source": [
    "d5 = response.json()\n",
    "d5"
   ]
  },
  {
   "cell_type": "code",
   "execution_count": 35,
   "id": "51d15e8c",
   "metadata": {},
   "outputs": [],
   "source": [
    "similar_movies = d5['results']"
   ]
  },
  {
   "cell_type": "code",
   "execution_count": 36,
   "id": "4f3289f2",
   "metadata": {},
   "outputs": [
    {
     "data": {
      "text/plain": [
       "20"
      ]
     },
     "execution_count": 36,
     "metadata": {},
     "output_type": "execute_result"
    }
   ],
   "source": [
    "len(similar_movies)"
   ]
  },
  {
   "cell_type": "code",
   "execution_count": 37,
   "id": "4d3ee154",
   "metadata": {},
   "outputs": [
    {
     "name": "stdout",
     "output_type": "stream",
     "text": [
      "Spy Game\n",
      "Live Free or Die Hard\n",
      "Die Hard 2\n",
      "Resident Evil: Apocalypse\n",
      "The Holiday\n"
     ]
    }
   ],
   "source": [
    "for i in range(5):\n",
    "    print(similar_movies[i]['original_title'])"
   ]
  },
  {
   "cell_type": "markdown",
   "id": "7d050a93",
   "metadata": {},
   "source": [
    "# Fetch Top Rated English movies in the US Region and From that Fetch the top 10 movies having original langugae as English and also print their genres "
   ]
  },
  {
   "cell_type": "code",
   "execution_count": 41,
   "id": "32d74a34",
   "metadata": {},
   "outputs": [],
   "source": [
    "top_rated_url = \"https://api.themoviedb.org/3/movie/top_rated\""
   ]
  },
  {
   "cell_type": "code",
   "execution_count": 44,
   "id": "66d94fad",
   "metadata": {},
   "outputs": [],
   "source": [
    "params = {'api_key':api_key,'region':'us'}\n",
    "response = requests.get(top_rated_url,params=params)"
   ]
  },
  {
   "cell_type": "code",
   "execution_count": 45,
   "id": "0feccac1",
   "metadata": {},
   "outputs": [
    {
     "data": {
      "text/plain": [
       "<Response [200]>"
      ]
     },
     "execution_count": 45,
     "metadata": {},
     "output_type": "execute_result"
    }
   ],
   "source": [
    "response"
   ]
  },
  {
   "cell_type": "code",
   "execution_count": 46,
   "id": "1909af49",
   "metadata": {},
   "outputs": [
    {
     "data": {
      "text/plain": [
       "{'page': 1,\n",
       " 'results': [{'adult': False,\n",
       "   'backdrop_path': '/tmU7GeKVybMWFButWEGl2M4GeiP.jpg',\n",
       "   'genre_ids': [18, 80],\n",
       "   'id': 238,\n",
       "   'original_language': 'en',\n",
       "   'original_title': 'The Godfather',\n",
       "   'overview': 'Spanning the years 1945 to 1955, a chronicle of the fictional Italian-American Corleone crime family. When organized crime family patriarch, Vito Corleone barely survives an attempt on his life, his youngest son, Michael steps in to take care of the would-be killers, launching a campaign of bloody revenge.',\n",
       "   'popularity': 120.671,\n",
       "   'poster_path': '/3bhkrj58Vtu7enYsRolD1fZdja1.jpg',\n",
       "   'release_date': '1972-03-14',\n",
       "   'title': 'The Godfather',\n",
       "   'video': False,\n",
       "   'vote_average': 8.7,\n",
       "   'vote_count': 17300},\n",
       "  {'adult': False,\n",
       "   'backdrop_path': '/wPU78OPN4BYEgWYdXyg0phMee64.jpg',\n",
       "   'genre_ids': [18, 80],\n",
       "   'id': 278,\n",
       "   'original_language': 'en',\n",
       "   'original_title': 'The Shawshank Redemption',\n",
       "   'overview': 'Framed in the 1940s for the double murder of his wife and her lover, upstanding banker Andy Dufresne begins a new life at the Shawshank prison, where he puts his accounting skills to work for an amoral warden. During his long stretch in prison, Dufresne comes to be admired by the other inmates -- including an older prisoner named Red -- for his integrity and unquenchable sense of hope.',\n",
       "   'popularity': 94.662,\n",
       "   'poster_path': '/hBcY0fE9pfXzvVaY4GKarweriG2.jpg',\n",
       "   'release_date': '1994-09-23',\n",
       "   'title': 'The Shawshank Redemption',\n",
       "   'video': False,\n",
       "   'vote_average': 8.7,\n",
       "   'vote_count': 23089},\n",
       "  {'adult': False,\n",
       "   'backdrop_path': '/r9PkFnRUIthgBp2JZZzD380MWZy.jpg',\n",
       "   'genre_ids': [16, 28, 12, 35, 10751, 14],\n",
       "   'id': 315162,\n",
       "   'original_language': 'en',\n",
       "   'original_title': 'Puss in Boots: The Last Wish',\n",
       "   'overview': 'Puss in Boots discovers that his passion for adventure has taken its toll: He has burned through eight of his nine lives, leaving him with only one life left. Puss sets out on an epic journey to find the mythical Last Wish and restore his nine lives.',\n",
       "   'popularity': 10895.482,\n",
       "   'poster_path': '/kuf6dutpsT0vSVehic3EZIqkOBt.jpg',\n",
       "   'release_date': '2022-12-21',\n",
       "   'title': 'Puss in Boots: The Last Wish',\n",
       "   'video': False,\n",
       "   'vote_average': 8.6,\n",
       "   'vote_count': 1793},\n",
       "  {'adult': False,\n",
       "   'backdrop_path': '/kGzFbGhp99zva6oZODW5atUtnqi.jpg',\n",
       "   'genre_ids': [18, 80],\n",
       "   'id': 240,\n",
       "   'original_language': 'en',\n",
       "   'original_title': 'The Godfather Part II',\n",
       "   'overview': 'In the continuing saga of the Corleone crime family, a young Vito Corleone grows up in Sicily and in 1910s New York. In the 1950s, Michael Corleone attempts to expand the family business into Las Vegas, Hollywood and Cuba.',\n",
       "   'popularity': 73.612,\n",
       "   'poster_path': '/hek3koDUyRQk7FIhPXsa6mT2Zc3.jpg',\n",
       "   'release_date': '1974-12-20',\n",
       "   'title': 'The Godfather Part II',\n",
       "   'video': False,\n",
       "   'vote_average': 8.6,\n",
       "   'vote_count': 10471},\n",
       "  {'adult': False,\n",
       "   'backdrop_path': '/zb6fM1CX41D9rF9hdgclu0peUmy.jpg',\n",
       "   'genre_ids': [18, 36, 10752],\n",
       "   'id': 424,\n",
       "   'original_language': 'en',\n",
       "   'original_title': \"Schindler's List\",\n",
       "   'overview': 'The true story of how businessman Oskar Schindler saved over a thousand Jewish lives from the Nazis while they worked as slaves in his factory during World War II.',\n",
       "   'popularity': 54.84,\n",
       "   'poster_path': '/sF1U4EUQS8YHUYjNl3pMGNIQyr0.jpg',\n",
       "   'release_date': '1993-12-15',\n",
       "   'title': \"Schindler's List\",\n",
       "   'video': False,\n",
       "   'vote_average': 8.6,\n",
       "   'vote_count': 13661},\n",
       "  {'adult': False,\n",
       "   'backdrop_path': '/vI3aUGTuRRdM7J78KIdW98LdxE5.jpg',\n",
       "   'genre_ids': [35, 18, 10749],\n",
       "   'id': 19404,\n",
       "   'original_language': 'hi',\n",
       "   'original_title': 'दिलवाले दुल्हनिया ले जायेंगे',\n",
       "   'overview': 'Raj is a rich, carefree, happy-go-lucky second generation NRI. Simran is the daughter of Chaudhary Baldev Singh, who in spite of being an NRI is very strict about adherence to Indian values. Simran has left for India to be married to her childhood fiancé. Raj leaves for India with a mission at his hands, to claim his lady love under the noses of her whole family. Thus begins a saga.',\n",
       "   'popularity': 29.394,\n",
       "   'poster_path': '/2CAL2433ZeIihfX1Hb2139CX0pW.jpg',\n",
       "   'release_date': '1995-10-20',\n",
       "   'title': 'Dilwale Dulhania Le Jayenge',\n",
       "   'video': False,\n",
       "   'vote_average': 8.6,\n",
       "   'vote_count': 4025},\n",
       "  {'adult': False,\n",
       "   'backdrop_path': '/Ab8mkHmkYADjU7wQiOkia9BzGvS.jpg',\n",
       "   'genre_ids': [16, 10751, 14],\n",
       "   'id': 129,\n",
       "   'original_language': 'ja',\n",
       "   'original_title': '千と千尋の神隠し',\n",
       "   'overview': 'A young girl, Chihiro, becomes trapped in a strange new world of spirits. When her parents undergo a mysterious transformation, she must call upon the courage she never knew she had to free her family.',\n",
       "   'popularity': 86.852,\n",
       "   'poster_path': '/39wmItIWsg5sZMyRUHLkWBcuVCM.jpg',\n",
       "   'release_date': '2002-09-20',\n",
       "   'title': 'Spirited Away',\n",
       "   'video': False,\n",
       "   'vote_average': 8.5,\n",
       "   'vote_count': 13815},\n",
       "  {'adult': False,\n",
       "   'backdrop_path': '/qqHQsStV6exghCM7zbObuYBiYxw.jpg',\n",
       "   'genre_ids': [18],\n",
       "   'id': 389,\n",
       "   'original_language': 'en',\n",
       "   'original_title': '12 Angry Men',\n",
       "   'overview': \"The defense and the prosecution have rested and the jury is filing into the jury room to decide if a young Spanish-American is guilty or innocent of murdering his father. What begins as an open and shut case soon becomes a mini-drama of each of the jurors' prejudices and preconceptions about the trial, the accused, and each other.\",\n",
       "   'popularity': 36.003,\n",
       "   'poster_path': '/ppd84D2i9W8jXmsyInGyihiSyqz.jpg',\n",
       "   'release_date': '1957-04-10',\n",
       "   'title': '12 Angry Men',\n",
       "   'video': False,\n",
       "   'vote_average': 8.5,\n",
       "   'vote_count': 6959},\n",
       "  {'adult': False,\n",
       "   'backdrop_path': '/dIWwZW7dJJtqC6CgWzYkNVKIUm8.jpg',\n",
       "   'genre_ids': [10749, 16, 18],\n",
       "   'id': 372058,\n",
       "   'original_language': 'ja',\n",
       "   'original_title': '君の名は。',\n",
       "   'overview': 'High schoolers Mitsuha and Taki are complete strangers living separate lives. But one night, they suddenly switch places. Mitsuha wakes up in Taki’s body, and he in hers. This bizarre occurrence continues to happen randomly, and the two must adjust their lives around each other.',\n",
       "   'popularity': 90.755,\n",
       "   'poster_path': '/q719jXXEzOoYaps6babgKnONONX.jpg',\n",
       "   'release_date': '2017-04-07',\n",
       "   'title': 'Your Name.',\n",
       "   'video': False,\n",
       "   'vote_average': 8.5,\n",
       "   'vote_count': 9410},\n",
       "  {'adult': False,\n",
       "   'backdrop_path': '/hiKmpZMGZsrkA3cdce8a7Dpos1j.jpg',\n",
       "   'genre_ids': [35, 53, 18],\n",
       "   'id': 496243,\n",
       "   'original_language': 'ko',\n",
       "   'original_title': '기생충',\n",
       "   'overview': \"All unemployed, Ki-taek's family takes peculiar interest in the wealthy and glamorous Parks for their livelihood until they get entangled in an unexpected incident.\",\n",
       "   'popularity': 66.154,\n",
       "   'poster_path': '/7IiTTgloJzvGI1TAYymCfbfl3vT.jpg',\n",
       "   'release_date': '2019-10-11',\n",
       "   'title': 'Parasite',\n",
       "   'video': False,\n",
       "   'vote_average': 8.5,\n",
       "   'vote_count': 15073},\n",
       "  {'adult': False,\n",
       "   'backdrop_path': '/3RMLbSEXOn1CzLoNT7xFeLfdxhq.jpg',\n",
       "   'genre_ids': [10749, 16],\n",
       "   'id': 372754,\n",
       "   'original_language': 'ja',\n",
       "   'original_title': '同級生',\n",
       "   'overview': 'Rihito Sajo, an honor student with a perfect score on the entrance exam and Hikaru Kusakabe, in a band and popular among girls, would have never crossed paths. Until one day they started talking at the practice for their school’s upcoming chorus festival. After school, the two meet regularly, as Hikaru helps Rihito to improve his singing skills. While they listen to each other’s voice and harmonize, their hearts start to beat together.',\n",
       "   'popularity': 9.909,\n",
       "   'poster_path': '/cIfRCA5wEvj9tApca4UDUagQEiM.jpg',\n",
       "   'release_date': '2016-05-06',\n",
       "   'title': 'Dou kyu sei – Classmates',\n",
       "   'video': False,\n",
       "   'vote_average': 8.5,\n",
       "   'vote_count': 286},\n",
       "  {'adult': False,\n",
       "   'backdrop_path': '/l6hQWH9eDksNJNiXWYRkWqikOdu.jpg',\n",
       "   'genre_ids': [14, 18, 80],\n",
       "   'id': 497,\n",
       "   'original_language': 'en',\n",
       "   'original_title': 'The Green Mile',\n",
       "   'overview': \"A supernatural tale set on death row in a Southern prison, where gentle giant John Coffey possesses the mysterious power to heal people's ailments. When the cell block's head guard, Paul Edgecomb, recognizes Coffey's miraculous gift, he tries desperately to help stave off the condemned man's execution.\",\n",
       "   'popularity': 99.041,\n",
       "   'poster_path': '/velWPhVMQeQKcxggNEU8YmIo52R.jpg',\n",
       "   'release_date': '1999-12-10',\n",
       "   'title': 'The Green Mile',\n",
       "   'video': False,\n",
       "   'vote_average': 8.5,\n",
       "   'vote_count': 14870},\n",
       "  {'adult': False,\n",
       "   'backdrop_path': '/pbEkjhdfP7yuDcMB78YEZwgD4IN.jpg',\n",
       "   'genre_ids': [18, 28, 80, 53],\n",
       "   'id': 155,\n",
       "   'original_language': 'en',\n",
       "   'original_title': 'The Dark Knight',\n",
       "   'overview': 'Batman raises the stakes in his war on crime. With the help of Lt. Jim Gordon and District Attorney Harvey Dent, Batman sets out to dismantle the remaining criminal organizations that plague the streets. The partnership proves to be effective, but they soon find themselves prey to a reign of chaos unleashed by a rising criminal mastermind known to the terrified citizens of Gotham as the Joker.',\n",
       "   'popularity': 130.549,\n",
       "   'poster_path': '/qJ2tW6WMUDux911r6m7haRef0WH.jpg',\n",
       "   'release_date': '2008-07-18',\n",
       "   'title': 'The Dark Knight',\n",
       "   'video': False,\n",
       "   'vote_average': 8.5,\n",
       "   'vote_count': 28984},\n",
       "  {'adult': False,\n",
       "   'backdrop_path': '/suaEOtk1N1sgg2MTM7oZd2cfVp3.jpg',\n",
       "   'genre_ids': [53, 80],\n",
       "   'id': 680,\n",
       "   'original_language': 'en',\n",
       "   'original_title': 'Pulp Fiction',\n",
       "   'overview': \"A burger-loving hit man, his philosophical partner, a drug-addled gangster's moll and a washed-up boxer converge in this sprawling, comedic crime caper. Their adventures unfurl in three stories that ingeniously trip back and forth in time.\",\n",
       "   'popularity': 63.325,\n",
       "   'poster_path': '/fIE3lAGcZDV1G6XM5KmuWnNsPp1.jpg',\n",
       "   'release_date': '1994-10-14',\n",
       "   'title': 'Pulp Fiction',\n",
       "   'video': False,\n",
       "   'vote_average': 8.5,\n",
       "   'vote_count': 24451},\n",
       "  {'adult': False,\n",
       "   'backdrop_path': '/eoCSp75lxatmIa6aGqfnzwtbttd.jpg',\n",
       "   'genre_ids': [37],\n",
       "   'id': 429,\n",
       "   'original_language': 'it',\n",
       "   'original_title': 'Il buono, il brutto, il cattivo',\n",
       "   'overview': 'While the Civil War rages on between the Union and the Confederacy, three men – a quiet loner, a ruthless hitman, and a Mexican bandit – comb the American Southwest in search of a strongbox containing $200,000 in stolen gold.',\n",
       "   'popularity': 52.899,\n",
       "   'poster_path': '/bX2xnavhMYjWDoZp1VM6VnU1xwe.jpg',\n",
       "   'release_date': '1967-12-29',\n",
       "   'title': 'The Good, the Bad and the Ugly',\n",
       "   'video': False,\n",
       "   'vote_average': 8.5,\n",
       "   'vote_count': 7127},\n",
       "  {'adult': False,\n",
       "   'backdrop_path': '/3h1JZGDhZ8nzxdgvkxha0qBqi05.jpg',\n",
       "   'genre_ids': [35, 18, 10749],\n",
       "   'id': 13,\n",
       "   'original_language': 'en',\n",
       "   'original_title': 'Forrest Gump',\n",
       "   'overview': 'A man with a low IQ has accomplished great things in his life and been present during significant historic events—in each case, far exceeding what anyone imagined he could do. But despite all he has achieved, his one true love eludes him.',\n",
       "   'popularity': 80.217,\n",
       "   'poster_path': '/arw2vcBveWOVZr6pxd9XTd1TdQa.jpg',\n",
       "   'release_date': '2014-09-05',\n",
       "   'title': 'Forrest Gump',\n",
       "   'video': False,\n",
       "   'vote_average': 8.5,\n",
       "   'vote_count': 23966},\n",
       "  {'adult': False,\n",
       "   'backdrop_path': '/w2uGvCpMtvRqZg6waC1hvLyZoJa.jpg',\n",
       "   'genre_ids': [10749],\n",
       "   'id': 696374,\n",
       "   'original_language': 'en',\n",
       "   'original_title': \"Gabriel's Inferno\",\n",
       "   'overview': \"An intriguing and sinful exploration of seduction, forbidden love, and redemption, Gabriel's Inferno is a captivating and wildly passionate tale of one man's escape from his own personal hell as he tries to earn the impossible--forgiveness and love.\",\n",
       "   'popularity': 13.826,\n",
       "   'poster_path': '/oyG9TL7FcRP4EZ9Vid6uKzwdndz.jpg',\n",
       "   'release_date': '2020-05-29',\n",
       "   'title': \"Gabriel's Inferno\",\n",
       "   'video': False,\n",
       "   'vote_average': 8.5,\n",
       "   'vote_count': 2320},\n",
       "  {'adult': False,\n",
       "   'backdrop_path': '/lXhgCODAbBXL5buk9yEmTpOoOgR.jpg',\n",
       "   'genre_ids': [12, 14, 28],\n",
       "   'id': 122,\n",
       "   'original_language': 'en',\n",
       "   'original_title': 'The Lord of the Rings: The Return of the King',\n",
       "   'overview': \"Aragorn is revealed as the heir to the ancient kings as he, Gandalf and the other members of the broken fellowship struggle to save Gondor from Sauron's forces. Meanwhile, Frodo and Sam take the ring closer to the heart of Mordor, the dark lord's realm.\",\n",
       "   'popularity': 86.032,\n",
       "   'poster_path': '/rCzpDGLbOoPwLjy3OAm5NUPOTrC.jpg',\n",
       "   'release_date': '2003-12-17',\n",
       "   'title': 'The Lord of the Rings: The Return of the King',\n",
       "   'video': False,\n",
       "   'vote_average': 8.5,\n",
       "   'vote_count': 20936},\n",
       "  {'adult': False,\n",
       "   'backdrop_path': '/sw7mordbZxgITU877yTpZCud90M.jpg',\n",
       "   'genre_ids': [18, 80],\n",
       "   'id': 769,\n",
       "   'original_language': 'en',\n",
       "   'original_title': 'GoodFellas',\n",
       "   'overview': 'The true story of Henry Hill, a half-Irish, half-Sicilian Brooklyn kid who is adopted by neighbourhood gangsters at an early age and climbs the ranks of a Mafia family under the guidance of Jimmy Conway.',\n",
       "   'popularity': 39.249,\n",
       "   'poster_path': '/aKuFiU82s5ISJpGZp7YkIr3kCUd.jpg',\n",
       "   'release_date': '1990-09-19',\n",
       "   'title': 'GoodFellas',\n",
       "   'video': False,\n",
       "   'vote_average': 8.5,\n",
       "   'vote_count': 10881},\n",
       "  {'adult': False,\n",
       "   'backdrop_path': '/jtAI6OJIWLWiRItNSZoWjrsUtmi.jpg',\n",
       "   'genre_ids': [10749],\n",
       "   'id': 724089,\n",
       "   'original_language': 'en',\n",
       "   'original_title': \"Gabriel's Inferno: Part II\",\n",
       "   'overview': \"Professor Gabriel Emerson finally learns the truth about Julia Mitchell's identity, but his realization comes a moment too late. Julia is done waiting for the well-respected Dante specialist to remember her and wants nothing more to do with him. Can Gabriel win back her heart before she finds love in another's arms?\",\n",
       "   'popularity': 12.778,\n",
       "   'poster_path': '/x5o8cLZfEXMoZczTYWLrUo1P7UJ.jpg',\n",
       "   'release_date': '2020-07-31',\n",
       "   'title': \"Gabriel's Inferno: Part II\",\n",
       "   'video': False,\n",
       "   'vote_average': 8.5,\n",
       "   'vote_count': 1457}],\n",
       " 'total_pages': 493,\n",
       " 'total_results': 9843}"
      ]
     },
     "execution_count": 46,
     "metadata": {},
     "output_type": "execute_result"
    }
   ],
   "source": [
    "d6 = response.json()\n",
    "d6"
   ]
  },
  {
   "cell_type": "code",
   "execution_count": 47,
   "id": "16bee6dc",
   "metadata": {},
   "outputs": [
    {
     "name": "stdout",
     "output_type": "stream",
     "text": [
      "page\n",
      "results\n",
      "total_pages\n",
      "total_results\n"
     ]
    }
   ],
   "source": [
    "for i in d6:\n",
    "    print(i)"
   ]
  },
  {
   "cell_type": "code",
   "execution_count": 48,
   "id": "2104e9ef",
   "metadata": {},
   "outputs": [],
   "source": [
    "results = d6['results']"
   ]
  },
  {
   "cell_type": "code",
   "execution_count": 49,
   "id": "f79a3d33",
   "metadata": {},
   "outputs": [
    {
     "data": {
      "text/plain": [
       "20"
      ]
     },
     "execution_count": 49,
     "metadata": {},
     "output_type": "execute_result"
    }
   ],
   "source": [
    "len(results)"
   ]
  },
  {
   "cell_type": "code",
   "execution_count": 50,
   "id": "174175b3",
   "metadata": {},
   "outputs": [
    {
     "data": {
      "text/plain": [
       "'d10a6d5eb2b927c522ba2676c1987395'"
      ]
     },
     "execution_count": 50,
     "metadata": {},
     "output_type": "execute_result"
    }
   ],
   "source": [
    "api_key"
   ]
  },
  {
   "cell_type": "code",
   "execution_count": 54,
   "id": "eac3f822",
   "metadata": {},
   "outputs": [],
   "source": [
    "response=requests.get(f\"https://api.themoviedb.org/3/genre/movie/list?api_key={api_key}\")"
   ]
  },
  {
   "cell_type": "code",
   "execution_count": 55,
   "id": "fcea79fc",
   "metadata": {},
   "outputs": [
    {
     "data": {
      "text/plain": [
       "<Response [200]>"
      ]
     },
     "execution_count": 55,
     "metadata": {},
     "output_type": "execute_result"
    }
   ],
   "source": [
    "response"
   ]
  },
  {
   "cell_type": "code",
   "execution_count": 56,
   "id": "b2fda1cf",
   "metadata": {},
   "outputs": [],
   "source": [
    "d7 = response.json()"
   ]
  },
  {
   "cell_type": "code",
   "execution_count": 67,
   "id": "1813b2ec",
   "metadata": {},
   "outputs": [],
   "source": [
    "genres = {i['id']:i['name'] for i in d7['genres']}"
   ]
  },
  {
   "cell_type": "code",
   "execution_count": 68,
   "id": "f6dea9c0",
   "metadata": {},
   "outputs": [],
   "source": [
    "top_rated = d6['results']"
   ]
  },
  {
   "cell_type": "code",
   "execution_count": 69,
   "id": "57c689eb",
   "metadata": {},
   "outputs": [
    {
     "data": {
      "text/plain": [
       "list"
      ]
     },
     "execution_count": 69,
     "metadata": {},
     "output_type": "execute_result"
    }
   ],
   "source": [
    "type(top_rated)"
   ]
  },
  {
   "cell_type": "code",
   "execution_count": 71,
   "id": "f486f96f",
   "metadata": {},
   "outputs": [
    {
     "name": "stdout",
     "output_type": "stream",
     "text": [
      "The Godfather - Drama,Crime,\n",
      "The Shawshank Redemption - Drama,Crime,\n",
      "Puss in Boots: The Last Wish - Animation,Action,Adventure,Comedy,Family,Fantasy,\n",
      "The Godfather Part II - Drama,Crime,\n",
      "Schindler's List - Drama,History,War,\n",
      "12 Angry Men - Drama,\n",
      "The Green Mile - Fantasy,Drama,Crime,\n",
      "The Dark Knight - Drama,Action,Crime,Thriller,\n",
      "Pulp Fiction - Thriller,Crime,\n",
      "Forrest Gump - Comedy,Drama,Romance,\n",
      "Gabriel's Inferno - Romance,\n",
      "The Lord of the Rings: The Return of the King - Adventure,Fantasy,Action,\n",
      "GoodFellas - Drama,Crime,\n",
      "Gabriel's Inferno: Part II - Romance,\n"
     ]
    }
   ],
   "source": [
    "count = 0\n",
    "for movie in top_rated:\n",
    "    if(movie['original_language']!='en') :\n",
    "      continue\n",
    "    current_genres = movie['genre_ids']\n",
    "    print(movie['original_title'],end=' - ')\n",
    "    for i in current_genres :\n",
    "        print(genres[i],end=',')\n",
    "    print()\n",
    "    "
   ]
  },
  {
   "cell_type": "code",
   "execution_count": null,
   "id": "4719220d",
   "metadata": {},
   "outputs": [],
   "source": []
  }
 ],
 "metadata": {
  "kernelspec": {
   "display_name": "Python 3 (ipykernel)",
   "language": "python",
   "name": "python3"
  },
  "language_info": {
   "codemirror_mode": {
    "name": "ipython",
    "version": 3
   },
   "file_extension": ".py",
   "mimetype": "text/x-python",
   "name": "python",
   "nbconvert_exporter": "python",
   "pygments_lexer": "ipython3",
   "version": "3.9.7"
  }
 },
 "nbformat": 4,
 "nbformat_minor": 5
}
